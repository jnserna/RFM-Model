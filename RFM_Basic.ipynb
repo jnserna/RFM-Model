{
 "cells": [
  {
   "cell_type": "markdown",
   "id": "05e9a43d-a493-41a6-b4c8-da415c40e2ff",
   "metadata": {},
   "source": [
    "### Modelo RFM"
   ]
  },
  {
   "cell_type": "markdown",
   "id": "1f4632f3-1193-4697-9acf-9911905c5570",
   "metadata": {},
   "source": [
    "Siglas: Recency, Frequency, Monetary.\n",
    "\n",
    "Es un modelo de segmentación de clientes.\n",
    "\n",
    "**Recencia:** tiempo (puede ser en días) que ha pasado desde la última transacción que realizó un cliente. La transacción puede ser: última compra, suscripción o registro, carrito abandonado, etc.\n",
    "\n",
    "**Frecuencia:** número de transacciones realizadas en un período de tiempo.\n",
    "\n",
    "**Valor Monetario:** valor total (en unidades monetarias) de las transacciones realizadas."
   ]
  },
  {
   "cell_type": "markdown",
   "id": "b95ec43e-94bf-4c03-be69-bf6b996e91a9",
   "metadata": {},
   "source": [
    "Este modelo es una aplicación muy sencilla, que tiene explícitas las tablas de R,F,M ni la sponderaciones. Adicional no tiene aplicadas reglas de negocio de la empresa en la que se aplica."
   ]
  },
  {
   "cell_type": "code",
   "execution_count": 20,
   "id": "70043110-0a55-4718-9134-a6bfb2475f20",
   "metadata": {},
   "outputs": [
    {
     "data": {
      "text/html": [
       "<div>\n",
       "<style scoped>\n",
       "    .dataframe tbody tr th:only-of-type {\n",
       "        vertical-align: middle;\n",
       "    }\n",
       "\n",
       "    .dataframe tbody tr th {\n",
       "        vertical-align: top;\n",
       "    }\n",
       "\n",
       "    .dataframe thead th {\n",
       "        text-align: right;\n",
       "    }\n",
       "</style>\n",
       "<table border=\"1\" class=\"dataframe\">\n",
       "  <thead>\n",
       "    <tr style=\"text-align: right;\">\n",
       "      <th></th>\n",
       "      <th>Unnamed: 0</th>\n",
       "      <th>f461_id_cia</th>\n",
       "      <th>v470_rowid_docto</th>\n",
       "      <th>periodo</th>\n",
       "      <th>fecha</th>\n",
       "      <th>tipo_docto</th>\n",
       "      <th>nro_docto</th>\n",
       "      <th>fecha_pedido</th>\n",
       "      <th>pedido_docto</th>\n",
       "      <th>motivo</th>\n",
       "      <th>...</th>\n",
       "      <th>precio_unit</th>\n",
       "      <th>valor_bruto_local</th>\n",
       "      <th>valor_dscto_local</th>\n",
       "      <th>valor_subtotal_local</th>\n",
       "      <th>valor_neto_local</th>\n",
       "      <th>costo_prom_uni</th>\n",
       "      <th>costo_promedio</th>\n",
       "      <th>margen_promedio</th>\n",
       "      <th>id_lista_precios</th>\n",
       "      <th>estado</th>\n",
       "    </tr>\n",
       "  </thead>\n",
       "  <tbody>\n",
       "    <tr>\n",
       "      <th>0</th>\n",
       "      <td>0</td>\n",
       "      <td>1</td>\n",
       "      <td>5060163</td>\n",
       "      <td>202101</td>\n",
       "      <td>20-01-2021</td>\n",
       "      <td>FED</td>\n",
       "      <td>FED-00007669</td>\n",
       "      <td>20-11-2020</td>\n",
       "      <td>PED-01308694</td>\n",
       "      <td>01-Ventas</td>\n",
       "      <td>...</td>\n",
       "      <td>93486.00</td>\n",
       "      <td>93486.00</td>\n",
       "      <td>0.0</td>\n",
       "      <td>93486.00</td>\n",
       "      <td>111248.34</td>\n",
       "      <td>52214.499</td>\n",
       "      <td>52012.07</td>\n",
       "      <td>44.36</td>\n",
       "      <td>007 - SODIMAC-CAFAM-FALABELLA</td>\n",
       "      <td>Aprobada</td>\n",
       "    </tr>\n",
       "    <tr>\n",
       "      <th>1</th>\n",
       "      <td>1</td>\n",
       "      <td>1</td>\n",
       "      <td>5060182</td>\n",
       "      <td>202101</td>\n",
       "      <td>20-01-2021</td>\n",
       "      <td>FED</td>\n",
       "      <td>FED-00007668</td>\n",
       "      <td>20-11-2020</td>\n",
       "      <td>PED-01308580</td>\n",
       "      <td>01-Ventas</td>\n",
       "      <td>...</td>\n",
       "      <td>59212.59</td>\n",
       "      <td>59212.59</td>\n",
       "      <td>0.0</td>\n",
       "      <td>59212.59</td>\n",
       "      <td>70462.98</td>\n",
       "      <td>33118.250</td>\n",
       "      <td>32989.34</td>\n",
       "      <td>44.28</td>\n",
       "      <td>007 - SODIMAC-CAFAM-FALABELLA</td>\n",
       "      <td>Aprobada</td>\n",
       "    </tr>\n",
       "    <tr>\n",
       "      <th>2</th>\n",
       "      <td>2</td>\n",
       "      <td>1</td>\n",
       "      <td>5061633</td>\n",
       "      <td>202101</td>\n",
       "      <td>15-01-2021</td>\n",
       "      <td>FED</td>\n",
       "      <td>FED-00007649</td>\n",
       "      <td>23-11-2020</td>\n",
       "      <td>PED-01309092</td>\n",
       "      <td>01-Ventas</td>\n",
       "      <td>...</td>\n",
       "      <td>347252.00</td>\n",
       "      <td>347252.00</td>\n",
       "      <td>0.0</td>\n",
       "      <td>347252.00</td>\n",
       "      <td>413229.88</td>\n",
       "      <td>193038.650</td>\n",
       "      <td>192301.67</td>\n",
       "      <td>44.62</td>\n",
       "      <td>007 - SODIMAC-CAFAM-FALABELLA</td>\n",
       "      <td>Aprobada</td>\n",
       "    </tr>\n",
       "    <tr>\n",
       "      <th>3</th>\n",
       "      <td>3</td>\n",
       "      <td>1</td>\n",
       "      <td>5069150</td>\n",
       "      <td>202101</td>\n",
       "      <td>15-01-2021</td>\n",
       "      <td>FED</td>\n",
       "      <td>FED-00007650</td>\n",
       "      <td>26-11-2020</td>\n",
       "      <td>PED-01310624</td>\n",
       "      <td>01-Ventas</td>\n",
       "      <td>...</td>\n",
       "      <td>59212.59</td>\n",
       "      <td>59212.59</td>\n",
       "      <td>0.0</td>\n",
       "      <td>59212.59</td>\n",
       "      <td>70462.98</td>\n",
       "      <td>33118.250</td>\n",
       "      <td>32989.34</td>\n",
       "      <td>44.28</td>\n",
       "      <td>999 - LISTA DE PRECIOS LIBRE</td>\n",
       "      <td>Aprobada</td>\n",
       "    </tr>\n",
       "    <tr>\n",
       "      <th>4</th>\n",
       "      <td>4</td>\n",
       "      <td>1</td>\n",
       "      <td>5071201</td>\n",
       "      <td>202101</td>\n",
       "      <td>20-01-2021</td>\n",
       "      <td>FED</td>\n",
       "      <td>FED-00007670</td>\n",
       "      <td>29-11-2020</td>\n",
       "      <td>PED-01312016</td>\n",
       "      <td>01-Ventas</td>\n",
       "      <td>...</td>\n",
       "      <td>2038186.00</td>\n",
       "      <td>2038186.00</td>\n",
       "      <td>0.0</td>\n",
       "      <td>2038186.00</td>\n",
       "      <td>2425441.34</td>\n",
       "      <td>1481440.615</td>\n",
       "      <td>1527679.47</td>\n",
       "      <td>25.04</td>\n",
       "      <td>007 - SODIMAC-CAFAM-FALABELLA</td>\n",
       "      <td>Aprobada</td>\n",
       "    </tr>\n",
       "  </tbody>\n",
       "</table>\n",
       "<p>5 rows × 29 columns</p>\n",
       "</div>"
      ],
      "text/plain": [
       "   Unnamed: 0  f461_id_cia  v470_rowid_docto  periodo       fecha tipo_docto  \\\n",
       "0           0            1           5060163   202101  20-01-2021        FED   \n",
       "1           1            1           5060182   202101  20-01-2021        FED   \n",
       "2           2            1           5061633   202101  15-01-2021        FED   \n",
       "3           3            1           5069150   202101  15-01-2021        FED   \n",
       "4           4            1           5071201   202101  20-01-2021        FED   \n",
       "\n",
       "      nro_docto fecha_pedido  pedido_docto     motivo  ...  precio_unit  \\\n",
       "0  FED-00007669   20-11-2020  PED-01308694  01-Ventas  ...     93486.00   \n",
       "1  FED-00007668   20-11-2020  PED-01308580  01-Ventas  ...     59212.59   \n",
       "2  FED-00007649   23-11-2020  PED-01309092  01-Ventas  ...    347252.00   \n",
       "3  FED-00007650   26-11-2020  PED-01310624  01-Ventas  ...     59212.59   \n",
       "4  FED-00007670   29-11-2020  PED-01312016  01-Ventas  ...   2038186.00   \n",
       "\n",
       "  valor_bruto_local  valor_dscto_local  valor_subtotal_local  \\\n",
       "0          93486.00                0.0              93486.00   \n",
       "1          59212.59                0.0              59212.59   \n",
       "2         347252.00                0.0             347252.00   \n",
       "3          59212.59                0.0              59212.59   \n",
       "4        2038186.00                0.0            2038186.00   \n",
       "\n",
       "   valor_neto_local costo_prom_uni costo_promedio  margen_promedio  \\\n",
       "0         111248.34      52214.499       52012.07            44.36   \n",
       "1          70462.98      33118.250       32989.34            44.28   \n",
       "2         413229.88     193038.650      192301.67            44.62   \n",
       "3          70462.98      33118.250       32989.34            44.28   \n",
       "4        2425441.34    1481440.615     1527679.47            25.04   \n",
       "\n",
       "                id_lista_precios    estado  \n",
       "0  007 - SODIMAC-CAFAM-FALABELLA  Aprobada  \n",
       "1  007 - SODIMAC-CAFAM-FALABELLA  Aprobada  \n",
       "2  007 - SODIMAC-CAFAM-FALABELLA  Aprobada  \n",
       "3   999 - LISTA DE PRECIOS LIBRE  Aprobada  \n",
       "4  007 - SODIMAC-CAFAM-FALABELLA  Aprobada  \n",
       "\n",
       "[5 rows x 29 columns]"
      ]
     },
     "execution_count": 20,
     "metadata": {},
     "output_type": "execute_result"
    }
   ],
   "source": [
    "import pandas as pd\n",
    "import seaborn as sns\n",
    "from datetime import timedelta\n",
    "import matplotlib.pyplot as plt\n",
    "import squarify\n",
    "import warnings\n",
    "warnings.filterwarnings(\"ignore\")\n",
    "\n",
    "# Lectura de datos\n",
    "data = pd.read_excel('BaseVentasDoc.xlsx', engine = 'openpyxl')\n",
    "data.head()"
   ]
  },
  {
   "cell_type": "code",
   "execution_count": 39,
   "id": "4ef77686-4466-42d0-8fc8-d9e5fdc1117e",
   "metadata": {},
   "outputs": [],
   "source": [
    "# La fecha se debe llevar a formato datetime\n",
    "data['fecha'] = pd.to_datetime(data['fecha'])"
   ]
  },
  {
   "cell_type": "code",
   "execution_count": 40,
   "id": "15cfa22c-c41b-47e5-8ee0-ea753874048b",
   "metadata": {},
   "outputs": [
    {
     "name": "stdout",
     "output_type": "stream",
     "text": [
      "El dataset tiene 592,721 filas; 30 columnas.\n",
      "Hay 0 transacciones que no tienen ID del cliente.\n",
      "Rango de fechas: las transacciones van desde el 2021-01-02 00:00:00 hasta el 2021-12-06 00:00:00.\n"
     ]
    }
   ],
   "source": [
    "# Dimensiones del dataset\n",
    "print('El dataset tiene {:,} filas; {:,} columnas.'\n",
    "      .format(data.shape[0], data.shape[1]))\n",
    "print('Hay {:,} transacciones que no tienen ID del cliente.'\n",
    "      .format(data[data.f461_rowid_tercero_fact.isnull()].shape[0]))\n",
    "print('Rango de fechas: las transacciones van desde el {} hasta el {}.'.format(data['fecha'].min(),\n",
    "                                    data['fecha'].max()))"
   ]
  },
  {
   "cell_type": "code",
   "execution_count": 41,
   "id": "3df283aa-0409-4c77-b002-c2ceec1eb415",
   "metadata": {},
   "outputs": [
    {
     "name": "stdout",
     "output_type": "stream",
     "text": [
      "2021-12-07 00:00:00\n"
     ]
    }
   ],
   "source": [
    "# --Se requiere agrupar el dataset por ID del Cliente--\n",
    "# Se crea columna TotalSum (Esto para el Valor Monetario)\n",
    "data['TotalSum'] = data['valor_subtotal_local']\n",
    "\n",
    "# Creación de fecha de referencia\n",
    "snapshot_date = data['fecha'].max() + timedelta(days=1)\n",
    "print(snapshot_date)\n",
    "\n",
    "# Agrupación por ID del Cliente\n",
    "data_process = data.groupby(['f461_rowid_tercero_fact']).agg({\n",
    "        'fecha': lambda x: (snapshot_date - x.max()).days, # Acá se calcula la recencia en días\n",
    "        'v470_rowid_docto': 'count', # Conteo de facturas por cliente. Esto se asume frecuencia, pero hay otras alternativas.\n",
    "        'TotalSum': 'sum'}) # Valor Monetario \n",
    "\n",
    "# Se renombran las columnas \n",
    "data_process.rename(columns={'fecha': 'Recencia',\n",
    "                         'v470_rowid_docto': 'Frecuencia',\n",
    "                         'TotalSum': 'Valor Monetario'}, inplace=True)"
   ]
  },
  {
   "cell_type": "code",
   "execution_count": 42,
   "id": "d491d2ef-bba4-43aa-93c9-4401b7a16a0f",
   "metadata": {},
   "outputs": [
    {
     "name": "stdout",
     "output_type": "stream",
     "text": [
      "                         Recencia  Frecuencia  Valor Monetario\n",
      "f461_rowid_tercero_fact                                       \n",
      "7                              31          13       1076336.18\n",
      "20                             32           4        261108.72\n",
      "37                            159         141      12893462.46\n",
      "38                            123         111      10458202.24\n",
      "75                            126          13       2583633.00\n",
      "Hay 7,162 clientes y sus datos 3 columnas de RFM.\n"
     ]
    }
   ],
   "source": [
    "# Head del nuevo dataset\n",
    "print(data_process.head())\n",
    "# Shape del nuevo dataset\n",
    "print('Hay {:,} clientes y sus datos {:,} columnas de RFM.'.format(data_process.shape[0], data_process.shape[1]))"
   ]
  },
  {
   "cell_type": "markdown",
   "id": "e1a237eb-d672-4dad-b34d-30ded081875a",
   "metadata": {},
   "source": [
    "Siempre se recomienda que los conteos se hagan por elementos numéricos (ID del cliente)."
   ]
  },
  {
   "cell_type": "markdown",
   "id": "571efa0f-2e3a-4be2-b9ff-a90537578316",
   "metadata": {},
   "source": [
    "Se examina la distribución de Recencia, Frecuencia y Valor Monetario."
   ]
  },
  {
   "cell_type": "code",
   "execution_count": 43,
   "id": "98ac2b3e-16f1-4671-acf3-8ab20d2c132c",
   "metadata": {},
   "outputs": [
    {
     "data": {
      "image/png": "[encoded data removed]",
      "text/plain": [
       "<Figure size 864x720 with 3 Axes>"
      ]
     },
     "metadata": {
      "needs_background": "light"
     },
     "output_type": "display_data"
    }
   ],
   "source": [
    "plt.figure(figsize=(12,10))\n",
    "plt.subplot(3, 1, 1); sns.distplot(data_process['Recencia'])\n",
    "plt.subplot(3, 1, 2); sns.distplot(data_process['Frecuencia'])\n",
    "plt.subplot(3, 1, 3); sns.distplot(data_process['Valor Monetario'])\n",
    "plt.show()"
   ]
  },
  {
   "cell_type": "markdown",
   "id": "495ef3ec-1450-4069-abd6-bbfece117e3b",
   "metadata": {},
   "source": [
    "Ahora empieza la segmentación. Se usará el método .qcut() para asignar el percentil relativo a la RFM característica."
   ]
  },
  {
   "cell_type": "markdown",
   "id": "9d9b2364-0189-4298-96ab-488455da22da",
   "metadata": {},
   "source": [
    "La puntuación posible por grupo (R o F) es 1,2,3 o 4. Esta es una metodología bastante simple."
   ]
  },
  {
   "cell_type": "code",
   "execution_count": 44,
   "id": "c48338d8-6d67-4280-b5e0-865048e6ec97",
   "metadata": {},
   "outputs": [
    {
     "data": {
      "text/html": [
       "<div>\n",
       "<style scoped>\n",
       "    .dataframe tbody tr th:only-of-type {\n",
       "        vertical-align: middle;\n",
       "    }\n",
       "\n",
       "    .dataframe tbody tr th {\n",
       "        vertical-align: top;\n",
       "    }\n",
       "\n",
       "    .dataframe thead th {\n",
       "        text-align: right;\n",
       "    }\n",
       "</style>\n",
       "<table border=\"1\" class=\"dataframe\">\n",
       "  <thead>\n",
       "    <tr style=\"text-align: right;\">\n",
       "      <th></th>\n",
       "      <th>Recencia</th>\n",
       "      <th>Frecuencia</th>\n",
       "      <th>Valor Monetario</th>\n",
       "      <th>R</th>\n",
       "      <th>F</th>\n",
       "    </tr>\n",
       "    <tr>\n",
       "      <th>f461_rowid_tercero_fact</th>\n",
       "      <th></th>\n",
       "      <th></th>\n",
       "      <th></th>\n",
       "      <th></th>\n",
       "      <th></th>\n",
       "    </tr>\n",
       "  </thead>\n",
       "  <tbody>\n",
       "    <tr>\n",
       "      <th>7</th>\n",
       "      <td>31</td>\n",
       "      <td>13</td>\n",
       "      <td>1076336.18</td>\n",
       "      <td>4</td>\n",
       "      <td>1</td>\n",
       "    </tr>\n",
       "    <tr>\n",
       "      <th>20</th>\n",
       "      <td>32</td>\n",
       "      <td>4</td>\n",
       "      <td>261108.72</td>\n",
       "      <td>3</td>\n",
       "      <td>1</td>\n",
       "    </tr>\n",
       "    <tr>\n",
       "      <th>37</th>\n",
       "      <td>159</td>\n",
       "      <td>141</td>\n",
       "      <td>12893462.46</td>\n",
       "      <td>2</td>\n",
       "      <td>4</td>\n",
       "    </tr>\n",
       "    <tr>\n",
       "      <th>38</th>\n",
       "      <td>123</td>\n",
       "      <td>111</td>\n",
       "      <td>10458202.24</td>\n",
       "      <td>2</td>\n",
       "      <td>4</td>\n",
       "    </tr>\n",
       "    <tr>\n",
       "      <th>75</th>\n",
       "      <td>126</td>\n",
       "      <td>13</td>\n",
       "      <td>2583633.00</td>\n",
       "      <td>2</td>\n",
       "      <td>1</td>\n",
       "    </tr>\n",
       "  </tbody>\n",
       "</table>\n",
       "</div>"
      ],
      "text/plain": [
       "                         Recencia  Frecuencia  Valor Monetario  R  F\n",
       "f461_rowid_tercero_fact                                             \n",
       "7                              31          13       1076336.18  4  1\n",
       "20                             32           4        261108.72  3  1\n",
       "37                            159         141      12893462.46  2  4\n",
       "38                            123         111      10458202.24  2  4\n",
       "75                            126          13       2583633.00  2  1"
      ]
     },
     "execution_count": 44,
     "metadata": {},
     "output_type": "execute_result"
    }
   ],
   "source": [
    "# --Calcular grupos para R and F --. \n",
    "\n",
    "# Creación de labels para Recencia y Frecuencia\n",
    "r_labels = range(4, 0, -1); f_labels = range(1, 5)\n",
    "# Se asignan los labels a los grupos de Recencia\n",
    "r_groups = pd.qcut(data_process['Recencia'], q=4, labels=r_labels)\n",
    "# Se asignan los labels a los grupos de Frecuencia\n",
    "f_groups = pd.qcut(data_process['Frecuencia'], q=4, labels=f_labels)\n",
    "# Creación de nuevas columnas R y F \n",
    "data_process = data_process.assign(R = r_groups.values, F = f_groups.values)\n",
    "data_process.head()"
   ]
  },
  {
   "cell_type": "markdown",
   "id": "73132be8-ca03-4105-9865-078e27e4470d",
   "metadata": {},
   "source": [
    "La puntuación posible por grupo (M) también es 1,2,3 o 4."
   ]
  },
  {
   "cell_type": "code",
   "execution_count": 45,
   "id": "fd621e7b-88e8-4f5a-a481-3b165890a5c0",
   "metadata": {},
   "outputs": [],
   "source": [
    "# Creación de labels para Valor Monetario\n",
    "m_labels = range(1, 5)\n",
    "# Se asignan los labels a los grupos\n",
    "m_groups = pd.qcut(data_process['Valor Monetario'], q=4, labels=m_labels)\n",
    "# Creación de la columna M\n",
    "data_process = data_process.assign(M = m_groups.values)"
   ]
  },
  {
   "cell_type": "code",
   "execution_count": 46,
   "id": "0ff160ac-3a32-4fe5-acd0-8d5afac52a51",
   "metadata": {},
   "outputs": [
    {
     "data": {
      "text/html": [
       "<div>\n",
       "<style scoped>\n",
       "    .dataframe tbody tr th:only-of-type {\n",
       "        vertical-align: middle;\n",
       "    }\n",
       "\n",
       "    .dataframe tbody tr th {\n",
       "        vertical-align: top;\n",
       "    }\n",
       "\n",
       "    .dataframe thead th {\n",
       "        text-align: right;\n",
       "    }\n",
       "</style>\n",
       "<table border=\"1\" class=\"dataframe\">\n",
       "  <thead>\n",
       "    <tr style=\"text-align: right;\">\n",
       "      <th></th>\n",
       "      <th>Recencia</th>\n",
       "      <th>Frecuencia</th>\n",
       "      <th>Valor Monetario</th>\n",
       "      <th>R</th>\n",
       "      <th>F</th>\n",
       "      <th>M</th>\n",
       "      <th>RFM_Segment_Concat</th>\n",
       "    </tr>\n",
       "    <tr>\n",
       "      <th>f461_rowid_tercero_fact</th>\n",
       "      <th></th>\n",
       "      <th></th>\n",
       "      <th></th>\n",
       "      <th></th>\n",
       "      <th></th>\n",
       "      <th></th>\n",
       "      <th></th>\n",
       "    </tr>\n",
       "  </thead>\n",
       "  <tbody>\n",
       "    <tr>\n",
       "      <th>7</th>\n",
       "      <td>31</td>\n",
       "      <td>13</td>\n",
       "      <td>1076336.18</td>\n",
       "      <td>4</td>\n",
       "      <td>1</td>\n",
       "      <td>1</td>\n",
       "      <td>4.01.01.0</td>\n",
       "    </tr>\n",
       "    <tr>\n",
       "      <th>20</th>\n",
       "      <td>32</td>\n",
       "      <td>4</td>\n",
       "      <td>261108.72</td>\n",
       "      <td>3</td>\n",
       "      <td>1</td>\n",
       "      <td>1</td>\n",
       "      <td>3.01.01.0</td>\n",
       "    </tr>\n",
       "    <tr>\n",
       "      <th>37</th>\n",
       "      <td>159</td>\n",
       "      <td>141</td>\n",
       "      <td>12893462.46</td>\n",
       "      <td>2</td>\n",
       "      <td>4</td>\n",
       "      <td>4</td>\n",
       "      <td>2.04.04.0</td>\n",
       "    </tr>\n",
       "    <tr>\n",
       "      <th>38</th>\n",
       "      <td>123</td>\n",
       "      <td>111</td>\n",
       "      <td>10458202.24</td>\n",
       "      <td>2</td>\n",
       "      <td>4</td>\n",
       "      <td>3</td>\n",
       "      <td>2.04.03.0</td>\n",
       "    </tr>\n",
       "    <tr>\n",
       "      <th>75</th>\n",
       "      <td>126</td>\n",
       "      <td>13</td>\n",
       "      <td>2583633.00</td>\n",
       "      <td>2</td>\n",
       "      <td>1</td>\n",
       "      <td>2</td>\n",
       "      <td>2.01.02.0</td>\n",
       "    </tr>\n",
       "  </tbody>\n",
       "</table>\n",
       "</div>"
      ],
      "text/plain": [
       "                         Recencia  Frecuencia  Valor Monetario  R  F  M  \\\n",
       "f461_rowid_tercero_fact                                                   \n",
       "7                              31          13       1076336.18  4  1  1   \n",
       "20                             32           4        261108.72  3  1  1   \n",
       "37                            159         141      12893462.46  2  4  4   \n",
       "38                            123         111      10458202.24  2  4  3   \n",
       "75                            126          13       2583633.00  2  1  2   \n",
       "\n",
       "                        RFM_Segment_Concat  \n",
       "f461_rowid_tercero_fact                     \n",
       "7                                4.01.01.0  \n",
       "20                               3.01.01.0  \n",
       "37                               2.04.04.0  \n",
       "38                               2.04.03.0  \n",
       "75                               2.01.02.0  "
      ]
     },
     "execution_count": 46,
     "metadata": {},
     "output_type": "execute_result"
    }
   ],
   "source": [
    "# Concatenar valores RFM para luego crear segmentos con todas las combinaciones de valores RFM\n",
    "def join_rfm(x): return str(x['R']) + str(x['F']) + str(x['M'])\n",
    "data_process['RFM_Segment_Concat'] = data_process.apply(join_rfm, axis=1)\n",
    "rfm = data_process\n",
    "rfm.head()"
   ]
  },
  {
   "cell_type": "code",
   "execution_count": 47,
   "id": "07fad04d-8a53-4a0b-967b-d54c51c3b5fa",
   "metadata": {},
   "outputs": [
    {
     "name": "stdout",
     "output_type": "stream",
     "text": [
      "Hay 63 distintas combinaciones de valores RFM. Estas pueden ser segmentos de clientes.\n"
     ]
    }
   ],
   "source": [
    "# Conteo del número de segmentos\n",
    "rfm_count_unique = rfm.groupby('RFM_Segment_Concat')['RFM_Segment_Concat'].nunique()\n",
    "print('Hay {:,} distintas combinaciones de valores RFM. Estas pueden ser segmentos de clientes.'.format(rfm_count_unique.sum()))"
   ]
  },
  {
   "cell_type": "markdown",
   "id": "49cfc4ed-3122-4918-a0ac-d05d70a32e22",
   "metadata": {},
   "source": [
    "Las anteriores segmentoa ya pueden ser una primera clasificación usando RFM. Sin embargo, es bastante realizar sumas y/o ponderaciones con los valores de las columnas R, F, y M  para llegar a un valor general (RFM Score) con el que luego se puedan realizar agrupaciones (segmentaciones)."
   ]
  },
  {
   "cell_type": "markdown",
   "id": "8df748af-65d0-4e3f-a9b5-55443d02f215",
   "metadata": {},
   "source": [
    "### Sumando el Score\n",
    "Uno de los métodos más simples es llevar los labels de R,F y M, por suma simple, a un solo número (RFM Score) y definir RFM levels para cada rango de score."
   ]
  },
  {
   "cell_type": "code",
   "execution_count": 48,
   "id": "2a2152a3-01ba-42e1-a85c-6e2d5c7254d4",
   "metadata": {},
   "outputs": [
    {
     "name": "stdout",
     "output_type": "stream",
     "text": [
      "f461_rowid_tercero_fact\n",
      "7      6\n",
      "20     5\n",
      "37    10\n",
      "38     9\n",
      "75     5\n",
      "Name: RFM_Score, dtype: int64\n"
     ]
    }
   ],
   "source": [
    "# Cálculo del RFM_Score como suma\n",
    "rfm['RFM_Score'] = rfm[['R','F','M']].sum(axis=1)\n",
    "print(rfm['RFM_Score'].head())"
   ]
  },
  {
   "cell_type": "markdown",
   "id": "3bb2d51a-2505-4ed0-a807-ac712bef3fde",
   "metadata": {},
   "source": [
    "En función al resultado de la suma (RFM_Score) es posible crear escalas y hacer hipótesis sobre lo que puede representar cada rango de RFM_score."
   ]
  },
  {
   "cell_type": "markdown",
   "id": "0b68a1a9-6a67-4305-8a4c-79edb9a007ab",
   "metadata": {},
   "source": [
    "A continuación se exploran dos segmentaciones distintas: una de 7 grupos (segmentos) y otra de 5 grupos (segmentos)."
   ]
  },
  {
   "cell_type": "code",
   "execution_count": 49,
   "id": "f9de8b83-8f49-4fc1-8229-26b48b46cfb2",
   "metadata": {},
   "outputs": [
    {
     "data": {
      "text/html": [
       "<div>\n",
       "<style scoped>\n",
       "    .dataframe tbody tr th:only-of-type {\n",
       "        vertical-align: middle;\n",
       "    }\n",
       "\n",
       "    .dataframe tbody tr th {\n",
       "        vertical-align: top;\n",
       "    }\n",
       "\n",
       "    .dataframe thead th {\n",
       "        text-align: right;\n",
       "    }\n",
       "</style>\n",
       "<table border=\"1\" class=\"dataframe\">\n",
       "  <thead>\n",
       "    <tr style=\"text-align: right;\">\n",
       "      <th></th>\n",
       "      <th>Recencia</th>\n",
       "      <th>Frecuencia</th>\n",
       "      <th>Valor Monetario</th>\n",
       "      <th>R</th>\n",
       "      <th>F</th>\n",
       "      <th>M</th>\n",
       "      <th>RFM_Segment_Concat</th>\n",
       "      <th>RFM_Score</th>\n",
       "      <th>RFM_Level</th>\n",
       "    </tr>\n",
       "    <tr>\n",
       "      <th>f461_rowid_tercero_fact</th>\n",
       "      <th></th>\n",
       "      <th></th>\n",
       "      <th></th>\n",
       "      <th></th>\n",
       "      <th></th>\n",
       "      <th></th>\n",
       "      <th></th>\n",
       "      <th></th>\n",
       "      <th></th>\n",
       "    </tr>\n",
       "  </thead>\n",
       "  <tbody>\n",
       "    <tr>\n",
       "      <th>7</th>\n",
       "      <td>31</td>\n",
       "      <td>13</td>\n",
       "      <td>1076336.18</td>\n",
       "      <td>4</td>\n",
       "      <td>1</td>\n",
       "      <td>1</td>\n",
       "      <td>4.01.01.0</td>\n",
       "      <td>6</td>\n",
       "      <td>D - Potencial</td>\n",
       "    </tr>\n",
       "    <tr>\n",
       "      <th>20</th>\n",
       "      <td>32</td>\n",
       "      <td>4</td>\n",
       "      <td>261108.72</td>\n",
       "      <td>3</td>\n",
       "      <td>1</td>\n",
       "      <td>1</td>\n",
       "      <td>3.01.01.0</td>\n",
       "      <td>5</td>\n",
       "      <td>E - Prometedor</td>\n",
       "    </tr>\n",
       "    <tr>\n",
       "      <th>37</th>\n",
       "      <td>159</td>\n",
       "      <td>141</td>\n",
       "      <td>12893462.46</td>\n",
       "      <td>2</td>\n",
       "      <td>4</td>\n",
       "      <td>4</td>\n",
       "      <td>2.04.04.0</td>\n",
       "      <td>10</td>\n",
       "      <td>A - No se pueden perder</td>\n",
       "    </tr>\n",
       "    <tr>\n",
       "      <th>38</th>\n",
       "      <td>123</td>\n",
       "      <td>111</td>\n",
       "      <td>10458202.24</td>\n",
       "      <td>2</td>\n",
       "      <td>4</td>\n",
       "      <td>3</td>\n",
       "      <td>2.04.03.0</td>\n",
       "      <td>9</td>\n",
       "      <td>A - No se pueden perder</td>\n",
       "    </tr>\n",
       "    <tr>\n",
       "      <th>75</th>\n",
       "      <td>126</td>\n",
       "      <td>13</td>\n",
       "      <td>2583633.00</td>\n",
       "      <td>2</td>\n",
       "      <td>1</td>\n",
       "      <td>2</td>\n",
       "      <td>2.01.02.0</td>\n",
       "      <td>5</td>\n",
       "      <td>E - Prometedor</td>\n",
       "    </tr>\n",
       "  </tbody>\n",
       "</table>\n",
       "</div>"
      ],
      "text/plain": [
       "                         Recencia  Frecuencia  Valor Monetario  R  F  M  \\\n",
       "f461_rowid_tercero_fact                                                   \n",
       "7                              31          13       1076336.18  4  1  1   \n",
       "20                             32           4        261108.72  3  1  1   \n",
       "37                            159         141      12893462.46  2  4  4   \n",
       "38                            123         111      10458202.24  2  4  3   \n",
       "75                            126          13       2583633.00  2  1  2   \n",
       "\n",
       "                        RFM_Segment_Concat  RFM_Score                RFM_Level  \n",
       "f461_rowid_tercero_fact                                                         \n",
       "7                                4.01.01.0          6            D - Potencial  \n",
       "20                               3.01.01.0          5           E - Prometedor  \n",
       "37                               2.04.04.0         10  A - No se pueden perder  \n",
       "38                               2.04.03.0          9  A - No se pueden perder  \n",
       "75                               2.01.02.0          5           E - Prometedor  "
      ]
     },
     "execution_count": 49,
     "metadata": {},
     "output_type": "execute_result"
    }
   ],
   "source": [
    "# Alternativa 1\n",
    "def rfm_level(df):\n",
    "    if df['RFM_Score'] >= 9:\n",
    "        return 'A - No se pueden perder'\n",
    "    elif ((df['RFM_Score'] >= 8) and (df['RFM_Score'] < 9)):\n",
    "        return 'B - Campeones'\n",
    "    elif ((df['RFM_Score'] >= 7) and (df['RFM_Score'] < 8)):\n",
    "        return 'C - Leal'\n",
    "    elif ((df['RFM_Score'] >= 6) and (df['RFM_Score'] < 7)):\n",
    "        return 'D - Potencial'\n",
    "    elif ((df['RFM_Score'] >= 5) and (df['RFM_Score'] < 6)):\n",
    "        return 'E - Prometedor'\n",
    "    elif ((df['RFM_Score'] >= 4) and (df['RFM_Score'] < 5)):\n",
    "        return 'F - Necesita atención'\n",
    "    else:\n",
    "        return 'G - Requiere activación'\n",
    "# Se crea una nueva variable RFM_Level\n",
    "rfm['RFM_Level'] = rfm.apply(rfm_level, axis=1)\n",
    "rfm.head()"
   ]
  },
  {
   "cell_type": "code",
   "execution_count": 50,
   "id": "9a69184f-9ce9-48ac-92cf-dc9a136e7b66",
   "metadata": {},
   "outputs": [
    {
     "name": "stdout",
     "output_type": "stream",
     "text": [
      "                        Recencia Frecuencia Valor Monetario      \n",
      "                            mean       mean            mean count\n",
      "RFM_Level                                                        \n",
      "A - No se pueden perder     44.0      163.8      21110666.6  2839\n",
      "B - Campeones               97.2       60.7       6891579.3   771\n",
      "C - Leal                   116.8       43.5       4417372.4   749\n",
      "D - Potencial              133.3       29.5       3468291.4   784\n",
      "E - Prometedor             164.8       20.4       1981804.1   695\n",
      "F - Necesita atención      198.0       12.1       1094050.9   569\n",
      "G - Requiere activación    256.9        5.5        433939.5   755\n"
     ]
    }
   ],
   "source": [
    "# Finalmente se agrupan los clientes por su RFM level\n",
    "\n",
    "# Se calculan los valores promedio para cada segmento, y la cantidad de clientes en cada segmento. \n",
    "rfm_level_agg = rfm.groupby('RFM_Level').agg({\n",
    "    'Recencia': 'mean',\n",
    "    'Frecuencia': 'mean',\n",
    "    'Valor Monetario': ['mean', 'count']\n",
    "}).round(1)\n",
    "\n",
    "print(rfm_level_agg)"
   ]
  },
  {
   "cell_type": "markdown",
   "id": "a1d87e68-5d7e-443d-9adf-91f28de49757",
   "metadata": {},
   "source": [
    "Interpretación:"
   ]
  },
  {
   "cell_type": "code",
   "execution_count": 51,
   "id": "a0b00bc2-a34b-43a7-bae8-a5d9cbc71878",
   "metadata": {},
   "outputs": [],
   "source": [
    "# Visualización de los datos\n",
    "rfm_level_agg.columns = rfm_level_agg.columns.droplevel()\n",
    "rfm_level_agg.columns = ['RecenciaMean','FrequenciaMean','Valor MonetarioMean', 'Count']"
   ]
  },
  {
   "cell_type": "code",
   "execution_count": 52,
   "id": "f48576cf-25a8-4736-a940-ec7e260fe2e2",
   "metadata": {},
   "outputs": [
    {
     "data": {
      "image/png": "[encoded data removed]",
      "text/plain": [
       "<Figure size 1152x648 with 1 Axes>"
      ]
     },
     "metadata": {
      "needs_background": "light"
     },
     "output_type": "display_data"
    }
   ],
   "source": [
    "# Se crea la figura y se asigna tamaño\n",
    "fig = plt.gcf()\n",
    "ax = fig.add_subplot()\n",
    "fig.set_size_inches(16, 9)\n",
    "squarify.plot(sizes=rfm_level_agg['Count'], \n",
    "              label=['No se pueden perder',\n",
    "                     'Campeones',\n",
    "                     'Leal',\n",
    "                     'Necesita atención',\n",
    "                     'Potencial', \n",
    "                     'Prometedor', \n",
    "                     'Requiere activación'], alpha=.6 )\n",
    "plt.title(\"Segmentos RFM\",fontsize=18,fontweight=\"bold\")\n",
    "plt.axis('off')\n",
    "plt.show()"
   ]
  },
  {
   "cell_type": "code",
   "execution_count": 53,
   "id": "5795e784-387d-4cbf-b189-32beebf7f94b",
   "metadata": {},
   "outputs": [
    {
     "data": {
      "text/html": [
       "<div>\n",
       "<style scoped>\n",
       "    .dataframe tbody tr th:only-of-type {\n",
       "        vertical-align: middle;\n",
       "    }\n",
       "\n",
       "    .dataframe tbody tr th {\n",
       "        vertical-align: top;\n",
       "    }\n",
       "\n",
       "    .dataframe thead th {\n",
       "        text-align: right;\n",
       "    }\n",
       "</style>\n",
       "<table border=\"1\" class=\"dataframe\">\n",
       "  <thead>\n",
       "    <tr style=\"text-align: right;\">\n",
       "      <th></th>\n",
       "      <th>Recencia</th>\n",
       "      <th>Frecuencia</th>\n",
       "      <th>Valor Monetario</th>\n",
       "      <th>R</th>\n",
       "      <th>F</th>\n",
       "      <th>M</th>\n",
       "      <th>RFM_Segment_Concat</th>\n",
       "      <th>RFM_Score</th>\n",
       "      <th>RFM_Level</th>\n",
       "    </tr>\n",
       "    <tr>\n",
       "      <th>f461_rowid_tercero_fact</th>\n",
       "      <th></th>\n",
       "      <th></th>\n",
       "      <th></th>\n",
       "      <th></th>\n",
       "      <th></th>\n",
       "      <th></th>\n",
       "      <th></th>\n",
       "      <th></th>\n",
       "      <th></th>\n",
       "    </tr>\n",
       "  </thead>\n",
       "  <tbody>\n",
       "    <tr>\n",
       "      <th>7</th>\n",
       "      <td>31</td>\n",
       "      <td>13</td>\n",
       "      <td>1076336.18</td>\n",
       "      <td>4</td>\n",
       "      <td>1</td>\n",
       "      <td>1</td>\n",
       "      <td>4.01.01.0</td>\n",
       "      <td>6</td>\n",
       "      <td>D - Regulares</td>\n",
       "    </tr>\n",
       "    <tr>\n",
       "      <th>20</th>\n",
       "      <td>32</td>\n",
       "      <td>4</td>\n",
       "      <td>261108.72</td>\n",
       "      <td>3</td>\n",
       "      <td>1</td>\n",
       "      <td>1</td>\n",
       "      <td>3.01.01.0</td>\n",
       "      <td>5</td>\n",
       "      <td>E - Poco aporte</td>\n",
       "    </tr>\n",
       "    <tr>\n",
       "      <th>37</th>\n",
       "      <td>159</td>\n",
       "      <td>141</td>\n",
       "      <td>12893462.46</td>\n",
       "      <td>2</td>\n",
       "      <td>4</td>\n",
       "      <td>4</td>\n",
       "      <td>2.04.04.0</td>\n",
       "      <td>10</td>\n",
       "      <td>B - Excelentes</td>\n",
       "    </tr>\n",
       "    <tr>\n",
       "      <th>38</th>\n",
       "      <td>123</td>\n",
       "      <td>111</td>\n",
       "      <td>10458202.24</td>\n",
       "      <td>2</td>\n",
       "      <td>4</td>\n",
       "      <td>3</td>\n",
       "      <td>2.04.03.0</td>\n",
       "      <td>9</td>\n",
       "      <td>C - Buenos</td>\n",
       "    </tr>\n",
       "    <tr>\n",
       "      <th>75</th>\n",
       "      <td>126</td>\n",
       "      <td>13</td>\n",
       "      <td>2583633.00</td>\n",
       "      <td>2</td>\n",
       "      <td>1</td>\n",
       "      <td>2</td>\n",
       "      <td>2.01.02.0</td>\n",
       "      <td>5</td>\n",
       "      <td>E - Poco aporte</td>\n",
       "    </tr>\n",
       "  </tbody>\n",
       "</table>\n",
       "</div>"
      ],
      "text/plain": [
       "                         Recencia  Frecuencia  Valor Monetario  R  F  M  \\\n",
       "f461_rowid_tercero_fact                                                   \n",
       "7                              31          13       1076336.18  4  1  1   \n",
       "20                             32           4        261108.72  3  1  1   \n",
       "37                            159         141      12893462.46  2  4  4   \n",
       "38                            123         111      10458202.24  2  4  3   \n",
       "75                            126          13       2583633.00  2  1  2   \n",
       "\n",
       "                        RFM_Segment_Concat  RFM_Score        RFM_Level  \n",
       "f461_rowid_tercero_fact                                                 \n",
       "7                                4.01.01.0          6    D - Regulares  \n",
       "20                               3.01.01.0          5  E - Poco aporte  \n",
       "37                               2.04.04.0         10   B - Excelentes  \n",
       "38                               2.04.03.0          9       C - Buenos  \n",
       "75                               2.01.02.0          5  E - Poco aporte  "
      ]
     },
     "execution_count": 53,
     "metadata": {},
     "output_type": "execute_result"
    }
   ],
   "source": [
    "# Alternativa 2\n",
    "def rfm_level2(df):\n",
    "    if df['RFM_Score'] >= 11:\n",
    "        return 'A - VIP'\n",
    "    elif ((df['RFM_Score'] >= 9.6) and (df['RFM_Score'] < 11)):\n",
    "        return 'B - Excelentes'\n",
    "    elif ((df['RFM_Score'] >= 8.4) and (df['RFM_Score'] < 9.6)):\n",
    "        return 'C - Buenos'\n",
    "    elif ((df['RFM_Score'] >= 6) and (df['RFM_Score'] < 8.4)):\n",
    "        return 'D - Regulares'\n",
    "    else:\n",
    "        return 'E - Poco aporte'\n",
    "# Se crea una nueva variable RFM_Level\n",
    "rfm['RFM_Level'] = rfm.apply(rfm_level2, axis=1)\n",
    "rfm.head()"
   ]
  },
  {
   "cell_type": "code",
   "execution_count": 54,
   "id": "83d64c60-8066-49e6-972c-1db228d5c79c",
   "metadata": {},
   "outputs": [
    {
     "name": "stdout",
     "output_type": "stream",
     "text": [
      "                Recencia Frecuencia Valor Monetario      \n",
      "                    mean       mean            mean count\n",
      "RFM_Level                                                \n",
      "A - VIP             16.9      234.2      29834283.7  1356\n",
      "B - Excelentes      60.9      115.7      14699900.3   736\n",
      "C - Buenos          76.5       83.3      11591388.5   747\n",
      "D - Regulares      115.8       44.5       4922378.5  2304\n",
      "E - Poco aporte    208.6       12.5       1152795.0  2019\n"
     ]
    }
   ],
   "source": [
    "# Finalmente se agrupan los clientes por su RFM level\n",
    "\n",
    "# Se calculan los valores promedio para cada segmento, y la cantidad de clientes en cada segmento. \n",
    "rfm_level_agg = rfm.groupby('RFM_Level').agg({\n",
    "    'Recencia': 'mean',\n",
    "    'Frecuencia': 'mean',\n",
    "    'Valor Monetario': ['mean', 'count']\n",
    "}).round(1)\n",
    "\n",
    "print(rfm_level_agg)"
   ]
  },
  {
   "cell_type": "code",
   "execution_count": 55,
   "id": "8a0b8d54-1713-450d-a457-006fa2cc6b32",
   "metadata": {},
   "outputs": [],
   "source": [
    "# Visualización de los datos\n",
    "rfm_level_agg.columns = rfm_level_agg.columns.droplevel()\n",
    "rfm_level_agg.columns = ['RecenciaMean','FrequenciaMean','Valor MonetarioMean', 'Count']"
   ]
  },
  {
   "cell_type": "code",
   "execution_count": 56,
   "id": "0d621b16-6c7d-408a-81ee-0ec48e56ca53",
   "metadata": {},
   "outputs": [
    {
     "data": {
      "image/png": "[encoded data removed]",
      "text/plain": [
       "<Figure size 1152x648 with 1 Axes>"
      ]
     },
     "metadata": {
      "needs_background": "light"
     },
     "output_type": "display_data"
    }
   ],
   "source": [
    "# Se crea la figura y se asigna tamaño\n",
    "fig = plt.gcf()\n",
    "ax = fig.add_subplot()\n",
    "fig.set_size_inches(16, 9)\n",
    "squarify.plot(sizes=rfm_level_agg['Count'], \n",
    "              label=['VIP',\n",
    "                     'Excelentes',\n",
    "                     'Buenos',\n",
    "                     'Regulares', \n",
    "                     'Poco aporte'], alpha=.6 )\n",
    "plt.title(\"Segmentos RFM\",fontsize=18,fontweight=\"bold\")\n",
    "plt.axis('off')\n",
    "plt.show()"
   ]
  },
  {
   "cell_type": "markdown",
   "id": "579c7cfb-3633-43d6-88e0-78c39c7da781",
   "metadata": {},
   "source": [
    "Notar que en el ejemplo anterior se asume la misma importancia a la Recencia, la Frecuencia y el Valor Monetario. Pero esto no siempre es así. En muchos casos es posible encontrar una matriz de ponderación para dar pesos distintas a las variables en la suma final."
   ]
  }
 ],
 "metadata": {
  "kernelspec": {
   "display_name": "Python 3",
   "language": "python",
   "name": "python3"
  },
  "language_info": {
   "codemirror_mode": {
    "name": "ipython",
    "version": 3
   },
   "file_extension": ".py",
   "mimetype": "text/x-python",
   "name": "python",
   "nbconvert_exporter": "python",
   "pygments_lexer": "ipython3",
   "version": "3.8.10"
  }
 },
 "nbformat": 4,
 "nbformat_minor": 5
}
